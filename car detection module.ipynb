{
 "cells": [
  {
   "cell_type": "code",
   "execution_count": null,
   "metadata": {},
   "outputs": [],
   "source": [
    "import cv2\n",
    "import numpy as np\n",
    "import torch\n",
    "from tkinter import Tk, filedialog, Label, Button, Canvas, PhotoImage\n",
    "from PIL import Image, ImageTk\n",
    "#pip install opencv-python pillow torch torchvision matplotlib ultralytics\n"
   ]
  },
  {
   "cell_type": "code",
   "execution_count": 16,
   "metadata": {},
   "outputs": [
    {
     "name": "stderr",
     "output_type": "stream",
     "text": [
      "Using cache found in C:\\Users\\mahes/.cache\\torch\\hub\\ultralytics_yolov5_master\n",
      "YOLOv5  2024-11-21 Python-3.11.0 torch-2.5.1+cpu CPU\n",
      "\n",
      "Fusing layers... \n",
      "YOLOv5s summary: 213 layers, 7225885 parameters, 0 gradients, 16.4 GFLOPs\n",
      "Adding AutoShape... \n"
     ]
    }
   ],
   "source": [
    "model = torch.hub.load('ultralytics/yolov5', 'yolov5s')"
   ]
  },
  {
   "cell_type": "code",
   "execution_count": null,
   "metadata": {},
   "outputs": [],
   "source": [
    "\n",
    "# Function classify car color\n",
    "def classify_car_color(image, box):\n",
    "    x1, y1, x2, y2 = map(int, box)\n",
    "    cropped_img = image[y1:y2, x1:x2]\n",
    "    avg_color = np.mean(cropped_img, axis=(0, 1))\n",
    "    if avg_color[2] > avg_color[0]:  \n",
    "        return 'Red'\n",
    "    elif avg_color[0] > avg_color[2]:  \n",
    "        return 'Blue'\n",
    "    else:\n",
    "        return 'Other'"
   ]
  },
  {
   "cell_type": "code",
   "execution_count": 22,
   "metadata": {},
   "outputs": [],
   "source": [
    "# Function to process image\n",
    "def process_image(image_path):\n",
    "    image = cv2.imread(image_path)\n",
    "    results = model(image)\n",
    "\n",
    "    \n",
    "    detections = results.xyxy[0].numpy()\n",
    "    person_count = 0\n",
    "    for det in detections:\n",
    "        x1, y1, x2, y2, conf, cls = det\n",
    "        label = model.names[int(cls)]\n",
    "        if label == 'car':\n",
    "            color = classify_car_color(image, [x1, y1, x2, y2])\n",
    "            color_rect = (255, 0, 0) if color == 'Blue' else (0, 0, 255)\n",
    "            cv2.rectangle(image, (int(x1), int(y1)), (int(x2), int(y2)), color_rect, 2)\n",
    "        elif label == 'person':\n",
    "            person_count += 1\n",
    "\n",
    "    \n",
    "    cv2.putText(image, f\"People Count: {person_count}\", (10, 50), cv2.FONT_HERSHEY_SIMPLEX, 1, (255, 255, 255), 2)\n",
    "\n",
    "    return image, person_count\n"
   ]
  },
  {
   "cell_type": "code",
   "execution_count": 23,
   "metadata": {},
   "outputs": [],
   "source": [
    "# GUI\n",
    "class CarColorApp:\n",
    "    def __init__(self, root):\n",
    "        self.root = root\n",
    "        self.root.title(\"Car Color Detection\")\n",
    "        self.canvas = Canvas(root, width=800, height=600)\n",
    "        self.canvas.pack()\n",
    "\n",
    "        self.label = Label(root, text=\"Upload an Image\")\n",
    "        self.label.pack()\n",
    "\n",
    "        self.upload_button = Button(root, text=\"Upload\", command=self.upload_image)\n",
    "        self.upload_button.pack()\n",
    "\n",
    "    def upload_image(self):\n",
    "        file_path = filedialog.askopenfilename()\n",
    "        if file_path:\n",
    "            processed_img, person_count = process_image(file_path)\n",
    "            processed_img = cv2.cvtColor(processed_img, cv2.COLOR_BGR2RGB)\n",
    "            processed_img = Image.fromarray(processed_img)\n",
    "            processed_img = ImageTk.PhotoImage(processed_img)\n",
    "\n",
    "            self.canvas.create_image(0, 0, anchor=\"nw\", image=processed_img)\n",
    "            self.canvas.image = processed_img\n",
    "            self.label.config(text=f\"People Count: {person_count}\")\n",
    "\n",
    "\n",
    "root = Tk()\n",
    "app = CarColorApp(root)\n",
    "root.mainloop()"
   ]
  }
 ],
 "metadata": {
  "kernelspec": {
   "display_name": "Python 3",
   "language": "python",
   "name": "python3"
  },
  "language_info": {
   "codemirror_mode": {
    "name": "ipython",
    "version": 3
   },
   "file_extension": ".py",
   "mimetype": "text/x-python",
   "name": "python",
   "nbconvert_exporter": "python",
   "pygments_lexer": "ipython3",
   "version": "3.11.0"
  }
 },
 "nbformat": 4,
 "nbformat_minor": 2
}
